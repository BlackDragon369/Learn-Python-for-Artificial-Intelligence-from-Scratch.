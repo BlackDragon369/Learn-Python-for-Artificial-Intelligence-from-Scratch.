{
 "cells": [
  {
   "cell_type": "markdown",
   "id": "b95dd3d9-9c75-47ad-bac3-441fab18e9f2",
   "metadata": {},
   "source": [
    "## 这是对人民网信息的抓取,并将信息可视化\n",
    "- http://cpc.people.com.cn/n1/2024/1231/c164113-40393373.html\n",
    "- http://cpc.people.com.cn/n1/2024/1228/c164113-40391347.html"
   ]
  },
  {
   "cell_type": "code",
   "execution_count": 1,
   "id": "e0aeab7c-a481-44e0-bbb1-97adf4e99ac5",
   "metadata": {},
   "outputs": [],
   "source": [
    "### 这是我的个人作业- 设计抓取程序，采用Beautiful Soup对象，抓取人民网的通知信息，将上述通知信息(标题、时间、内容)可视化，并存入Excel文档中"
   ]
  },
  {
   "cell_type": "code",
   "execution_count": 2,
   "id": "f029fadf-6f76-4a03-a04e-d43a7fe78f61",
   "metadata": {},
   "outputs": [
    {
     "name": "stdout",
     "output_type": "stream",
     "text": [
      "标题:时习之丨习近平：中国式现代化的新征程上，每一个人都是主角--独家稿件-中国共产党新闻网\n",
      "时间：2024-12-31\n",
      "内容：2024年12月31日晚，国家主席习近平发表二〇二五年新年贺词。习近平主席回顾了2024年中国取得的不平凡成就，激励全国人民“梦虽遥，追则能达；愿虽艰，持则可圆。中国式现代化的新征程上，每一个人都是主,时习之丨习近平：中国式现代化的新征程上，每一个人都是主角--独家稿件\n"
     ]
    }
   ],
   "source": [
    "# try_first,you will find something amazing\n",
    "\n",
    "#这是根据网页的html信息进行爬取，由于网页有静态的，可以通过Beautiful_Soup进行爬取。对于动态的网页-比如用JavaScript写的,不能直接用bs4.可以根据html内容进行抓取\n",
    "\n",
    "from bs4 import BeautifulSoup\n",
    "\n",
    "#这是人民网的一段HTML代码，有迹可循的，看‘meta‘\n",
    "\n",
    "html = '''\n",
    "<html>\n",
    "<head>\n",
    "<meta http-equiv=\"content-type\" content=\"text/html;charset=UTF-8\"/>\n",
    "<meta http-equiv=\"Content-Language\" content=\"utf-8\" />\n",
    "<meta content=\"all\" name=\"robots\" />\n",
    "<title>时习之丨习近平：中国式现代化的新征程上，每一个人都是主角--独家稿件-中国共产党新闻网</title>\n",
    "<meta name=\"renderer\" content=\"webkit\">\n",
    "<meta http-equiv=\"X-UA-Compatible\" content=\"IE=edge,chrome=1\" />\n",
    "<meta name=\"keywords\" content=\",时习之丨习近平：中国式现代化的新征程上，每一个人都是主角--独家稿件\" />\n",
    "<meta name=\"description\" content=\"2024年12月31日晚，国家主席习近平发表二〇二五年新年贺词。习近平主席回顾了2024年中国取得的不平凡成就，激励全国人民“梦虽遥，追则能达；愿虽艰，持则可圆。中国式现代化的新征程上，每一个人都是主,时习之丨习近平：中国式现代化的新征程上，每一个人都是主角--独家稿件\" />\n",
    "<meta name=\"filetype\" content=\"0\" />\n",
    "<meta name=\"publishedtype\" content=\"1\" />\n",
    "<meta name=\"pagetype\" content=\"1\" />\n",
    "<meta name=\"catalogs\" content=\"164113\" />\n",
    "<meta name=\"contentid\" content=\"40393373\" />\n",
    "<meta name=\"publishdate\" content=\"2024-12-31\" />\n",
    "<meta name=\"author\" content=\"105058\" />\n",
    "<meta name=\"source\" content=\"来源：人民网-中国共产党新闻网 原创稿\" />\n",
    "<meta name=\"editor\" content=\"105058;1587\">\n",
    "<meta name=\"sourcetype\" content=\"101\">\n",
    "<meta name=\"viewport\" content=\"width=device-width,initial-scale=1.0,minimum-scale=1.0,maximum-scale=1.0\">\n",
    "<script src=\"http://www.people.com.cn/img/MAIN/2013/08/113555/js_library/jquery-1.7.1.min.js\" type=\"text/javascript\"></script>\n",
    "<script src=\"http://www.people.com.cn/img/2013people/jquery.rmw.global.js\" language=\"javascript\" type=\"text/javascript\" charset=\"UTF-8\"></script>\n",
    "<script src=\"http://www.people.com.cn/img/2013people/www.news.js\" language=\"javascript\" type=\"text/javascript\" charset=\"UTF-8\"></script>\n",
    "<script src=\"https://cdn2-app.people.cn/static/js/synchronize.js\" type=\"text/javascript\"></script>\n",
    "<script src=\"https://cdn2-app.people.cn/static/js/moment.js\" type=\"text/javascript\"></script>\n",
    "<link rel=\"stylesheet\" href=\"http://www.people.com.cn/img/MAIN/2018/04/118320/css/swiper.min.css\">\n",
    "<link rel=\"stylesheet\" href=\"http://www.people.com.cn/img/MAIN/2020/12/120684/css/share2020.css\" charset=\"utf-8\">\n",
    "<link rel=\"stylesheet\" href=\"http://www.people.com.cn/img/MAIN/2020/12/120684/css/banner.css\">\n",
    "<link href=\"http://www.people.com.cn/img/MAIN/2020/12/120684/css/pageg.css\" type=\"text/css\" rel=\"stylesheet\" media=\"all\" />\n",
    "<script src=\"http://www.people.com.cn/img/MAIN/2018/04/118320/js/swiper.min.js\"></script>\n",
    "<script type=\"text/javascript\">\n",
    "'''\n",
    "#定义字典\n",
    "news = {}\n",
    "\n",
    "#解析html\n",
    "soup = BeautifulSoup(html, 'html.parser')\n",
    "\n",
    "#提取标题\n",
    "title = soup.find('title').text\n",
    "news['title'] = title\n",
    "\n",
    "#提取时间  <meta name=\"publishdate\" content=\"2024-12-31\" />\n",
    "time = soup.find('meta', {'name': 'publishdate'})['content']\n",
    "news['time'] = time\n",
    "\n",
    "#提取内容  <meta name=\"description\" content=\"2024年12月31日晚，\n",
    "content = soup.find('meta',{'name': 'description'})['content']\n",
    "news['content'] = content\n",
    "\n",
    "#输出结果--结果可视化\n",
    "print(f\"标题:{news['title']}\")\n",
    "print(f\"时间：{news['time']}\")\n",
    "print(f\"内容：{news['content']}\")"
   ]
  },
  {
   "cell_type": "code",
   "execution_count": 6,
   "id": "ede16170-970d-4f74-90cd-13655ebf3a5a",
   "metadata": {},
   "outputs": [
    {
     "data": {
      "text/html": [
       "<div>\n",
       "<style scoped>\n",
       "    .dataframe tbody tr th:only-of-type {\n",
       "        vertical-align: middle;\n",
       "    }\n",
       "\n",
       "    .dataframe tbody tr th {\n",
       "        vertical-align: top;\n",
       "    }\n",
       "\n",
       "    .dataframe thead th {\n",
       "        text-align: right;\n",
       "    }\n",
       "</style>\n",
       "<table border=\"1\" class=\"dataframe\">\n",
       "  <thead>\n",
       "    <tr style=\"text-align: right;\">\n",
       "      <th></th>\n",
       "      <th>title</th>\n",
       "      <th>time</th>\n",
       "      <th>content</th>\n",
       "    </tr>\n",
       "  </thead>\n",
       "  <tbody>\n",
       "    <tr>\n",
       "      <th>0</th>\n",
       "      <td>时习之丨习近平：中国式现代化的新征程上，每一个人都是主角--独家稿件-中国共产党新闻网</td>\n",
       "      <td>2024-12-31</td>\n",
       "      <td>2024年12月31日晚，国家主席习近平发表二〇二五年新年贺词。习近平主席回顾了2024年中...</td>\n",
       "    </tr>\n",
       "  </tbody>\n",
       "</table>\n",
       "</div>"
      ],
      "text/plain": [
       "                                         title        time  \\\n",
       "0  时习之丨习近平：中国式现代化的新征程上，每一个人都是主角--独家稿件-中国共产党新闻网  2024-12-31   \n",
       "\n",
       "                                             content  \n",
       "0  2024年12月31日晚，国家主席习近平发表二〇二五年新年贺词。习近平主席回顾了2024年中...  "
      ]
     },
     "execution_count": 6,
     "metadata": {},
     "output_type": "execute_result"
    }
   ],
   "source": [
    "#原地保存\n",
    "import pandas as pd\n",
    "df = pd.DataFrame(news, columns=['title', 'time', 'content'],index=['0',])\n",
    "df"
   ]
  },
  {
   "cell_type": "markdown",
   "id": "519319c6-eba2-433a-9718-69aa4e4c6553",
   "metadata": {},
   "source": [
    "- 分析：经过上述操作，我们已经可以通过提取soup.find('meta')的方法，从而对html的信息进行定向抓取。\n",
    "- 实现模拟浏览器请求网页，对网页信息进行抓取\n",
    "- 接下来，要实现结构化的体系，使其可以对多个网页信息进行抓取--函数、封装"
   ]
  },
  {
   "cell_type": "code",
   "execution_count": 8,
   "id": "bb810386-4ba4-4679-ad8d-c18383384799",
   "metadata": {},
   "outputs": [
    {
     "name": "stdout",
     "output_type": "stream",
     "text": [
      "{'time': '2024-12-28', 'title': <title>时习之丨聚焦2024年中央政治局会议：科学决策 锚定发展航向--独家稿件-中国共产党新闻网</title>, 'content': <meta content=\",时习之丨聚焦2024年中央政治局会议：科学决策 锚定发展航向--独家稿件\" name=\"description\"/>}\n",
      "{'time': '2024-12-31', 'title': <title>时习之丨习近平：中国式现代化的新征程上，每一个人都是主角--独家稿件-中国共产党新闻网</title>, 'content': <meta content=\"2024年12月31日晚，国家主席习近平发表二〇二五年新年贺词。习近平主席回顾了2024年中国取得的不平凡成就，激励全国人民“梦虽遥，追则能达；愿虽艰，持则可圆。中国式现代化的新征程上，每一个人都是主,时习之丨习近平：中国式现代化的新征程上，每一个人都是主角--独家稿件\" name=\"description\"/>}\n"
     ]
    }
   ],
   "source": [
    "import requests\n",
    "from bs4 import BeautifulSoup\n",
    "\n",
    "# 构造请求头\n",
    "HEADERS = {\n",
    "    'User-Agent': 'Mozilla/5.0 (Windows NT 6.1; Win64; x64) AppleWebKit/537.36 (KHTML, like Gecko) Chrome/64.0.3282.140 Safari/537.36',\n",
    "}\n",
    "\n",
    "def get_detail(url):\n",
    "    new = {}\n",
    "\n",
    "    #异常处理\n",
    "    try:\n",
    "        #发送请求获取页面内容\n",
    "        response = requests.get(url, HEADERS)\n",
    "        response.raise_for_status()\n",
    "\n",
    "        #手动指定编码\n",
    "        response.encoding = response.apparent_encoding\n",
    "\n",
    "        #解析HTML\n",
    "        soup = BeautifulSoup(response.text)\n",
    "\n",
    "        #提取时间\n",
    "        time_tag = soup.find('meta', {'name':'publishdate'})\n",
    "        time = time_tag['content'] if time_tag else None\n",
    "        new['time'] = time\n",
    "\n",
    "        #提取标题\n",
    "        title_tag = soup.find('title')\n",
    "        title = title_tag if title_tag else None\n",
    "        new['title'] = title\n",
    "\n",
    "        #提取内容\n",
    "        content_tag = soup.find('meta', {'name':'description'})\n",
    "        content = content_tag if content_tag else None\n",
    "        new['content'] = content\n",
    "\n",
    "        return new\n",
    "    except requests.RequestException as e:\n",
    "        print(f\"请求 URL {url} 时出错: {e} \")\n",
    "        return None\n",
    "    except (KeyError, AttributeError) as e:\n",
    "        print(f\"解析 URL {url} 的 HTML 时出错 {e} \")\n",
    "        return None\n",
    "\n",
    "def spider(base_url):\n",
    "    news = []    #这里是字典列表\n",
    "    for url in base_url:\n",
    "        new = get_detail(url)\n",
    "        news.append(new)\n",
    "    return news\n",
    "\n",
    "if __name__ == \"__main__\":\n",
    "    base_url = ['http://cpc.people.com.cn/n1/2024/1228/c164113-40391347.html',\n",
    "                'http://cpc.people.com.cn/n1/2024/1231/c164113-40393373.html']\n",
    "    news = spider(base_url)\n",
    "    for i in range(0, len(news)):\n",
    "        print(news[i])\n",
    "        "
   ]
  },
  {
   "cell_type": "code",
   "execution_count": 9,
   "id": "1182e3dd-f410-4280-9d8f-01e5cc49fc70",
   "metadata": {},
   "outputs": [
    {
     "data": {
      "text/html": [
       "<div>\n",
       "<style scoped>\n",
       "    .dataframe tbody tr th:only-of-type {\n",
       "        vertical-align: middle;\n",
       "    }\n",
       "\n",
       "    .dataframe tbody tr th {\n",
       "        vertical-align: top;\n",
       "    }\n",
       "\n",
       "    .dataframe thead th {\n",
       "        text-align: right;\n",
       "    }\n",
       "</style>\n",
       "<table border=\"1\" class=\"dataframe\">\n",
       "  <thead>\n",
       "    <tr style=\"text-align: right;\">\n",
       "      <th></th>\n",
       "      <th>time</th>\n",
       "      <th>title</th>\n",
       "      <th>content</th>\n",
       "    </tr>\n",
       "  </thead>\n",
       "  <tbody>\n",
       "    <tr>\n",
       "      <th>0</th>\n",
       "      <td>2024-12-28</td>\n",
       "      <td>[时习之丨聚焦2024年中央政治局会议：科学决策 锚定发展航向--独家稿件-中国共产党新闻网]</td>\n",
       "      <td>[]</td>\n",
       "    </tr>\n",
       "    <tr>\n",
       "      <th>1</th>\n",
       "      <td>2024-12-31</td>\n",
       "      <td>[时习之丨习近平：中国式现代化的新征程上，每一个人都是主角--独家稿件-中国共产党新闻网]</td>\n",
       "      <td>[]</td>\n",
       "    </tr>\n",
       "  </tbody>\n",
       "</table>\n",
       "</div>"
      ],
      "text/plain": [
       "         time                                            title content\n",
       "0  2024-12-28  [时习之丨聚焦2024年中央政治局会议：科学决策 锚定发展航向--独家稿件-中国共产党新闻网]      []\n",
       "1  2024-12-31    [时习之丨习近平：中国式现代化的新征程上，每一个人都是主角--独家稿件-中国共产党新闻网]      []"
      ]
     },
     "execution_count": 9,
     "metadata": {},
     "output_type": "execute_result"
    }
   ],
   "source": [
    "#引入pandas包进行保存\n",
    "import pandas as pd\n",
    "df = pd.DataFrame(news, columns=['time', 'title', 'content'])    #将列表转化成数据框\n",
    "df"
   ]
  },
  {
   "cell_type": "code",
   "execution_count": 10,
   "id": "3eb76767-ea21-43fd-a718-0a6c4e2db698",
   "metadata": {},
   "outputs": [],
   "source": [
    "df.to_csv('homework2.csv')"
   ]
  },
  {
   "cell_type": "markdown",
   "id": "57d1a5ad-fe43-4650-909b-d7e4f0a70059",
   "metadata": {},
   "source": [
    "- my_puzzle1:'html.parser' 属于解析器，它的作用是告知 BeautifulSoup 库采用何种方式解析 HTML 文档。下面为你详细阐述：\n",
    "解析器的作\n",
    "- html.parser 解析器\n",
    "'html.parser' 是 Python 标准库自带的 HTML 解析器，它不需要额外安装其他依赖库，具备以下特点："
   ]
  },
  {
   "cell_type": "code",
   "execution_count": 13,
   "id": "979f5c17-0830-4fe8-bd1a-73f90d097d39",
   "metadata": {},
   "outputs": [
    {
     "name": "stdout",
     "output_type": "stream",
     "text": [
      "{'time': '2024-12-28', 'title': '时习之丨聚焦2024年中央政治局会议：科学决策 锚定发展航向--独家稿件-中国共产党新闻网', 'content': ',时习之丨聚焦2024年中央政治局会议：科学决策 锚定发展航向--独家稿件'}\n",
      "{'time': '2024-12-31', 'title': '时习之丨习近平：中国式现代化的新征程上，每一个人都是主角--独家稿件-中国共产党新闻网', 'content': '2024年12月31日晚，国家主席习近平发表二〇二五年新年贺词。习近平主席回顾了2024年中国取得的不平凡成就，激励全国人民“梦虽遥，追则能达；愿虽艰，持则可圆。中国式现代化的新征程上，每一个人都是主,时习之丨习近平：中国式现代化的新征程上，每一个人都是主角--独家稿件'}\n"
     ]
    }
   ],
   "source": [
    "import requests\n",
    "from bs4 import BeautifulSoup\n",
    "\n",
    "# 构造请求头\n",
    "HEADERS = {\n",
    "    'User-Agent': 'Mozilla/5.0 (Windows NT 6.1; Win64; x64) AppleWebKit/537.36 (KHTML, like Gecko) Chrome/64.0.3282.140 Safari/537.36',\n",
    "}\n",
    "\n",
    "def get_detail(url):\n",
    "    new = {}\n",
    "\n",
    "    #异常处理\n",
    "    try:\n",
    "        #发送请求获取页面内容\n",
    "        response = requests.get(url, HEADERS)\n",
    "        response.raise_for_status()\n",
    "\n",
    "        #手动指定编码\n",
    "        response.encoding = response.apparent_encoding\n",
    "\n",
    "        #解析HTML\n",
    "        soup = BeautifulSoup(response.text)\n",
    "\n",
    "        #提取时间\n",
    "        time_tag = soup.find('meta', {'name':'publishdate'})['content']\n",
    "        #time = time_tag['content'] \n",
    "        new['time'] = time_tag\n",
    "\n",
    "        #提取标题\n",
    "        title_tag = soup.find('title').text\n",
    "        #title = title_tag \n",
    "        new['title'] = title_tag\n",
    "\n",
    "        #提取内容\n",
    "        content_tag = soup.find('meta', {'name':'description'})['content']\n",
    "        #content = content_tag \n",
    "        new['content'] = content_tag\n",
    "\n",
    "        return new\n",
    "    except requests.RequestException as e:\n",
    "        print(f\"请求 URL {url} 时出错: {e} \")\n",
    "        return None\n",
    "    except (KeyError, AttributeError) as e:\n",
    "        print(f\"解析 URL {url} 的 HTML 时出错 {e} \")\n",
    "        return None\n",
    "\n",
    "def spider(base_url):\n",
    "    news = []    #这里是字典列表\n",
    "    for url in base_url:\n",
    "        new = get_detail(url)\n",
    "        news.append(new)\n",
    "    return news\n",
    "\n",
    "if __name__ == \"__main__\":\n",
    "    base_url = ['http://cpc.people.com.cn/n1/2024/1228/c164113-40391347.html',\n",
    "                'http://cpc.people.com.cn/n1/2024/1231/c164113-40393373.html']\n",
    "    news = spider(base_url)\n",
    "    for i in range(0, len(news)):\n",
    "        print(news[i])"
   ]
  },
  {
   "cell_type": "code",
   "execution_count": 14,
   "id": "9660c175-7b7b-4d19-9129-c6f57171fcb1",
   "metadata": {},
   "outputs": [
    {
     "data": {
      "text/html": [
       "<div>\n",
       "<style scoped>\n",
       "    .dataframe tbody tr th:only-of-type {\n",
       "        vertical-align: middle;\n",
       "    }\n",
       "\n",
       "    .dataframe tbody tr th {\n",
       "        vertical-align: top;\n",
       "    }\n",
       "\n",
       "    .dataframe thead th {\n",
       "        text-align: right;\n",
       "    }\n",
       "</style>\n",
       "<table border=\"1\" class=\"dataframe\">\n",
       "  <thead>\n",
       "    <tr style=\"text-align: right;\">\n",
       "      <th></th>\n",
       "      <th>time</th>\n",
       "      <th>title</th>\n",
       "      <th>content</th>\n",
       "    </tr>\n",
       "  </thead>\n",
       "  <tbody>\n",
       "    <tr>\n",
       "      <th>0</th>\n",
       "      <td>2024-12-28</td>\n",
       "      <td>时习之丨聚焦2024年中央政治局会议：科学决策 锚定发展航向--独家稿件-中国共产党新闻网</td>\n",
       "      <td>,时习之丨聚焦2024年中央政治局会议：科学决策 锚定发展航向--独家稿件</td>\n",
       "    </tr>\n",
       "    <tr>\n",
       "      <th>1</th>\n",
       "      <td>2024-12-31</td>\n",
       "      <td>时习之丨习近平：中国式现代化的新征程上，每一个人都是主角--独家稿件-中国共产党新闻网</td>\n",
       "      <td>2024年12月31日晚，国家主席习近平发表二〇二五年新年贺词。习近平主席回顾了2024年中...</td>\n",
       "    </tr>\n",
       "  </tbody>\n",
       "</table>\n",
       "</div>"
      ],
      "text/plain": [
       "         time                                          title  \\\n",
       "0  2024-12-28  时习之丨聚焦2024年中央政治局会议：科学决策 锚定发展航向--独家稿件-中国共产党新闻网   \n",
       "1  2024-12-31    时习之丨习近平：中国式现代化的新征程上，每一个人都是主角--独家稿件-中国共产党新闻网   \n",
       "\n",
       "                                             content  \n",
       "0              ,时习之丨聚焦2024年中央政治局会议：科学决策 锚定发展航向--独家稿件  \n",
       "1  2024年12月31日晚，国家主席习近平发表二〇二五年新年贺词。习近平主席回顾了2024年中...  "
      ]
     },
     "execution_count": 14,
     "metadata": {},
     "output_type": "execute_result"
    }
   ],
   "source": [
    "#引入pandas包进行保存\n",
    "import pandas as pd\n",
    "df = pd.DataFrame(news, columns=['time', 'title', 'content'])    #将列表转化成数据框\n",
    "df"
   ]
  },
  {
   "cell_type": "code",
   "execution_count": 15,
   "id": "4843b534-5b35-40ce-ae47-41f628db8cf3",
   "metadata": {},
   "outputs": [],
   "source": [
    "df.to_csv('homework2-2.csv')"
   ]
  },
  {
   "cell_type": "code",
   "execution_count": null,
   "id": "3c221705-e471-4d19-8618-d8af53c78c7b",
   "metadata": {},
   "outputs": [],
   "source": []
  }
 ],
 "metadata": {
  "kernelspec": {
   "display_name": "Python 3 (ipykernel)",
   "language": "python",
   "name": "python3"
  },
  "language_info": {
   "codemirror_mode": {
    "name": "ipython",
    "version": 3
   },
   "file_extension": ".py",
   "mimetype": "text/x-python",
   "name": "python",
   "nbconvert_exporter": "python",
   "pygments_lexer": "ipython3",
   "version": "3.9.20"
  }
 },
 "nbformat": 4,
 "nbformat_minor": 5
}
